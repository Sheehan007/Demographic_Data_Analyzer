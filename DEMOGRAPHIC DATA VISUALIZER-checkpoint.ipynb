{
 "cells": [
  {
   "cell_type": "code",
   "execution_count": 87,
   "metadata": {},
   "outputs": [
    {
     "name": "stdout",
     "output_type": "stream",
     "text": [
      "White                 27816\n",
      "Black                  3124\n",
      "Asian-Pac-Islander     1039\n",
      "Amer-Indian-Eskimo      311\n",
      "Other                   271\n",
      "Name: race, dtype: int64\n",
      "Average age of men accroding to the survey is 39.43354749885268 %\n",
      "Percentage of people with only a Bachelos degree are 16.44605509658794 %\n",
      "This is the percentage of people that are rich with a degree 46.535843011613935 %\n",
      "Percentage of people who are not educated but rich 17.3713601914639 %\n",
      "The minimum no of hours per week are 1\n",
      "The number of people that work the least but earn more than 50K are 100.0\n",
      "The country that has the most number of high worth individuals is Iran\n",
      "The most popular occupation in India for people who earn more than 50K are Prof-specialty\n"
     ]
    }
   ],
   "source": [
    "# PROJECT-2\n",
    "# DEMOGRAPHIC DATA ANALYZER\n",
    "\n",
    "# Start\n",
    "\n",
    "import pandas as pd\n",
    "import numpy as np\n",
    "import matplotlib.pyplot as plt\n",
    "\n",
    "col_names = ['age','workclass','fnwglt','education','education-num','marital-status',\n",
    "             'occupation','realtionship','race','sex','capital-gain','capital-loss',\n",
    "             'hours-per-week','native-country','salary']\n",
    "\n",
    "df = pd.read_csv('Downloads/adult.data.csv', names = col_names, header = None, encoding = 'UTF-8')\n",
    "\n",
    "# 1. How many people of each race are represented in the dataset? \n",
    "# This should be a Pandas series with race names as the index labels. \n",
    "race_names = df['race'].unique()\n",
    "people_race = df['race'].value_counts()\n",
    "print (people_race)\n",
    "\n",
    "# 2. What is the average age of men? \n",
    "avg_age = df['age'].mean()\n",
    "avg_age_men = (df[df['sex'] =='Male']['age'].mean())\n",
    "print ('Average age of men accroding to the survey is',avg_age_men,'%')\n",
    "\n",
    "# 3. What is the percentage of people who have a Bachelors degree?\n",
    "percent_bachelor = (df[df['education'] =='Bachelors'].shape[0] / df.shape[0]) * 100\n",
    "print ('Percentage of people with only a Bachelos degree are',percent_bachelor,'%')\n",
    "\n",
    "# 4. What percentage of people with advanced education (Bachelors, Masters, or Doctorate) make more than 50K?\n",
    "r1 = df['education'].isin(['Bachelors','Masters','Doctorate'])\n",
    "r2 = df['salary'] == '>50K'\n",
    "rich = (r1 & r2).sum() / r1.sum() * 100\n",
    "print ('This is the percentage of people that are rich with a degree',rich,'%')\n",
    "\n",
    "# 5. What percentage of people without advanced education make more than 50K?\n",
    "no_ed_rich = (~r1&r2).sum() / (~r1).sum() * 100\n",
    "print ('Percentage of people who are not educated but rich',no_ed_rich,'%')\n",
    "\n",
    "# 6. What is the minimum number of hours a person works per week?\n",
    "min_hours = df['hours-per-week'].min()\n",
    "print ('The minimum no of hours per week are',min_hours)\n",
    "\n",
    "# 7. What percentage of the people who work the minimum number of hours per week have a salary of more than 50K?\n",
    "p1 = df['hours-per-week'].min()\n",
    "p2 = df['salary'] == '>50K'\n",
    "less_work_people = (p1 & p2).sum() / p2.sum() * 100\n",
    "print ('The number of people that work the least but earn more than 50K are',less_work_people)\n",
    "\n",
    "# 8. What country has the highest percentage of people that earn >50K and what is that percentage?\n",
    "most_earning = (df['native-country'] [df['salary'] == '>50K'].value_counts() / \n",
    "                df['native-country'].value_counts() * 100).sort_values(ascending = False).index[0]\n",
    "print ('The country that has the most number of high worth individuals is',most_earning)\n",
    "\n",
    "# 9. Identify the most popular occupation for those who earn >50K in India.\n",
    "most_pop_india = df[(df['native-country'] == 'India') & (df['salary'] == '>50K')] ['occupation'].value_counts().index[0]\n",
    "print ('The most popular occupation in India for people who earn more than 50K are',most_pop_india)\n",
    "\n",
    "# End\n"
   ]
  }
 ],
 "metadata": {
  "kernelspec": {
   "display_name": "Python 3",
   "language": "python",
   "name": "python3"
  },
  "language_info": {
   "codemirror_mode": {
    "name": "ipython",
    "version": 3
   },
   "file_extension": ".py",
   "mimetype": "text/x-python",
   "name": "python",
   "nbconvert_exporter": "python",
   "pygments_lexer": "ipython3",
   "version": "3.7.9"
  }
 },
 "nbformat": 4,
 "nbformat_minor": 4
}
